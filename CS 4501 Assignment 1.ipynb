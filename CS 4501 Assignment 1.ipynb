{
 "cells": [
  {
   "cell_type": "markdown",
   "metadata": {},
   "source": [
    "# Assignment 1: Comparison of Multivariate Linear Regression Models"
   ]
  },
  {
   "cell_type": "markdown",
   "metadata": {},
   "source": [
    "### CS 4501 Machine Learning - Department of Computer Science - University of Virginia\n",
    "*In this assignment, you will get to pick your favorite data set on Kaggle (https://kaggle.com) and implement some learning models in the context of a **regression** problem.  For references, you may refer to [my slides](https://docs.google.com/presentation/d/10D1he89peAWaFgjtZlHpUzvOOAie_vIFT95htKCKgc0/edit#slide=id.p) or Chapter 4 of the textbook if you need additional sample codes to help with your assignment. To get started, you will need to determine which dataset to download and copy it into the directory where you wish to run your implementation (ie. same folder as this file).* \n",
    "\n",
    "*For deliverables, you must write code in Python and submit **this** Jupyter Notebook file (.ipynb) to earn a total of 100 pts. You will gain points depending on how you perform in the following sections.*\n"
   ]
  },
  {
   "cell_type": "markdown",
   "metadata": {},
   "source": [
    "***\n",
    "## 1. BIG PICTURE (5 pts)\n",
    "Write a paragraph explaining the context of the problem in which you are trying to investigate. In the same paragraph, explain why you pick your dataset. Then, you MUST include the URL to the dataset to help the TA to download it (we will assume that the data file is put into the same folder as the Jupyter Notebook file). Then, you can write some code to load the CSV file and take a quick look at the dataset, and output the following:\n",
    "\n",
    " * How big is your dataset? (in terms of MB)\n",
    " * How many entries does it have?\n",
    " * How many features does it have?\n",
    " * What are some basic statistics you can learn right away about this dataset?"
   ]
  },
  {
   "cell_type": "markdown",
   "metadata": {},
   "source": [
    "I am trying to predict the amount of subscribers on a Youtube channel. I am personally really interested in this topic because I am trying to start a Youtube channel myself, so it is in my best interest to see what features lead to a succesful Youtube channel. \n",
    "\n",
    "\n",
    "\n",
    "\n",
    "\n",
    "How big is your dataset? (in terms of MB): 128 kb\n",
    "\n",
    "How many entries does it have?: 5,000 entries\n",
    "\n",
    "How many features does it have?: 6 features\n",
    "\n",
    "What are some basic statistics you can learn right away about this dataset?: \n",
    "\n",
    "                       uploads\t           subscribers\t                         views\n",
    "           \n",
    "    count           4610.000000\t            4.610000e+03\t               4.610000e+03\n",
    "\n",
    "    mean\t        4085.745987\t            2.621527e+06\t               1.138403e+09\n",
    "\n",
    "    std\t            17726.160260\t        3.927263e+06\t               2.068706e+09\n",
    "\n",
    "    min\t            1.000000\t            3.010000e+02\t               7.500000e+01\n",
    "\n",
    "    25%\t            148.000000\t            6.101925e+05\t               2.189184e+08\n",
    "\n",
    "    50%\t            464.000000\t            1.350884e+06\t               5.368886e+08\n",
    "\n",
    "    75%\t            1592.500000\t            2.950921e+06\t               1.195115e+09\n",
    "\n",
    "    max\t            422326.000000\t        6.599531e+07\t               4.754884e+10"
   ]
  },
  {
   "cell_type": "code",
   "execution_count": 145,
   "metadata": {},
   "outputs": [],
   "source": [
    "# Import some common packages\n",
    "import os\n",
    "import numpy as np\n",
    "import matplotlib\n",
    "import matplotlib.pyplot as plt\n",
    "import pandas as pd\n",
    "\n",
    "# to make this notebook's output stable across runs\n",
    "np.random.seed(42)\n",
    "\n",
    "# Your code goes here for this section, make sure you also include the output to answer the above questions.\n",
    "datasetURL = \"https://www.kaggle.com/mdhrumil/top-5000-youtube-channels-data-from-socialblade\"; # required url to download for CSV file. The TA will need to download the file and run your program.\n",
    "\n",
    "\n"
   ]
  },
  {
   "cell_type": "markdown",
   "metadata": {},
   "source": [
    "---\n",
    "## 2. DATA DISCOVERY, CLEANING, AND SCALING (10 pts)\n",
    "\n",
    "**Data Discover:** Plot out all correlations among the features. You may notice some features are more correlated with your predicted value than other. This information will help you confirm that weights of your regression model later on.\n",
    "\n",
    "**Data Cleaning:** If your dataset has some missing values, make sure you are able to fill those values with the Imputer class. If your dataset has categorical features, make sure you conver those features into numerical using OneHotEncoder class. \n",
    "\n",
    "**Feature Scaling** More importantly, your task is to write some codes to normalize the value of each features as follow:\n",
    "\n",
    "* Subtract the mean value of each feature from the dataset\n",
    "* Scale (divide) the feature values by their respective standard deviation\n",
    "\n",
    "Implementation Note: You will do this for all features and your code should work with datasets of all sizes (any number of features/ examples). After learning the parameters from the model, you must first normalize the new $x$ value using the mean and standard deviation that you have previously computed from the training set."
   ]
  },
  {
   "cell_type": "code",
   "execution_count": 146,
   "metadata": {},
   "outputs": [
    {
     "name": "stdout",
     "output_type": "stream",
     "text": [
      "\n",
      "Correlations: \n",
      "\n",
      "subscribers    1.000000\n",
      "views          0.791241\n",
      "uploads        0.011362\n",
      "Name: subscribers, dtype: float64\n",
      "\n",
      "Clearly the only relevant feature is the amount of views.\n",
      "I am only going to use the amount of total views on a Youtube channel\n",
      "in order to predict the amount of subcribers that a channel has.\n",
      "\n"
     ]
    },
    {
     "name": "stderr",
     "output_type": "stream",
     "text": [
      "/anaconda3/lib/python3.7/site-packages/sklearn/preprocessing/data.py:625: DataConversionWarning: Data with input dtype int64 were all converted to float64 by StandardScaler.\n",
      "  return self.partial_fit(X, y)\n",
      "/anaconda3/lib/python3.7/site-packages/sklearn/base.py:462: DataConversionWarning: Data with input dtype int64 were all converted to float64 by StandardScaler.\n",
      "  return self.fit(X, **fit_params).transform(X)\n",
      "/anaconda3/lib/python3.7/site-packages/sklearn/preprocessing/data.py:625: DataConversionWarning: Data with input dtype int64 were all converted to float64 by StandardScaler.\n",
      "  return self.partial_fit(X, y)\n",
      "/anaconda3/lib/python3.7/site-packages/sklearn/base.py:462: DataConversionWarning: Data with input dtype int64 were all converted to float64 by StandardScaler.\n",
      "  return self.fit(X, **fit_params).transform(X)\n"
     ]
    },
    {
     "data": {
      "image/png": "[encoded data removed]",
      "text/plain": [
       "<Figure size 432x288 with 1 Axes>"
      ]
     },
     "metadata": {
      "needs_background": "light"
     },
     "output_type": "display_data"
    }
   ],
   "source": [
    "# You might want to use the following package\n",
    "%matplotlib inline\n",
    "from datascience import *\n",
    "from sklearn.model_selection import train_test_split\n",
    "from pandas.plotting import scatter_matrix # optional\n",
    "from sklearn.preprocessing import Imputer\n",
    "from sklearn.preprocessing import LabelEncoder\n",
    "from sklearn.preprocessing import OneHotEncoder\n",
    "from sklearn.pipeline import Pipeline\n",
    "from sklearn.preprocessing import StandardScaler\n",
    "from sklearn.metrics import mean_squared_error\n",
    "import pandas as pd\n",
    "import matplotlib.pyplot as plt\n",
    "\n",
    "\n",
    "# Dropping useless columns and changing the column names to make my life easier \n",
    "read_csv = pd.read_csv(\"data.csv\")\n",
    "read_csv = read_csv.drop(columns = [\"Rank\", \"Channel name\", \"Grade\"])\n",
    "read_csv = read_csv.rename(columns = {\"Video Uploads\": \"uploads\", \"Video views\": \"views\", \"Subscribers\": \"subscribers\"})\n",
    "\n",
    "# Removing useless rows with no information\n",
    "read_csv = read_csv[read_csv[\"uploads\"] != \"-- \"]\n",
    "read_csv = read_csv[read_csv[\"subscribers\"] != \"-- \"]\n",
    "read_csv = read_csv[read_csv[\"uploads\"] != \"--\"]\n",
    "read_csv = read_csv[read_csv[\"subscribers\"] != \"--\"]\n",
    "\n",
    "# Casting strings to integers\n",
    "uploads_ints = pd.to_numeric(read_csv[\"uploads\"])\n",
    "subscribers_ints = pd.to_numeric(read_csv[\"subscribers\"])\n",
    "read_csv['uploads'] = uploads_ints\n",
    "read_csv['subscribers'] = subscribers_ints\n",
    "\n",
    "# Plotting scatter plot to see the correlations visually \n",
    "plot = read_csv.plot(kind=\"scatter\", x=\"views\", y = \"subscribers\", alpha = 0.3)\n",
    "\n",
    "# Looking for correlations \n",
    "print()\n",
    "print(\"Correlations: \")\n",
    "print()\n",
    "corr_matrix = read_csv.corr()\n",
    "print(corr_matrix[\"subscribers\"].sort_values(ascending=False))\n",
    "print()\n",
    "print(\"Clearly the only relevant feature is the amount of views.\")\n",
    "print(\"I am only going to use the amount of total views on a Youtube channel\")\n",
    "print(\"in order to predict the amount of subcribers that a channel has.\")\n",
    "print()\n",
    "\n",
    "# Splitting into training data and testing data\n",
    "train_set, test_set = train_test_split(read_csv, test_size = 0.2, random_state = 42)\n",
    "\n",
    "\n",
    "# Getting x training values \n",
    "x_train_values = train_set[['views']]\n",
    "\n",
    "\n",
    "# Getting y training values \n",
    "y_train_values = train_set[['subscribers']]\n",
    "y_train = y_train_values.values\n",
    "\n",
    "\n",
    "# Getting x test values\n",
    "x_test_values = test_set[['views']]\n",
    "\n",
    "\n",
    "# Getting y test values\n",
    "y_test_values = test_set[['subscribers']]\n",
    "y_test = y_test_values.values\n",
    "\n",
    "# Standard Scaler pipeline to normalize the x values\n",
    "pipe = Pipeline([('std_scaler', StandardScaler())])\n",
    "\n",
    "\n",
    "# Normalizing x training values with pipe\n",
    "x_train_final = np.array(pipe.fit_transform(x_train_values))\n",
    "ones = np.ones( (x_train_final.shape[0]))\n",
    "x_train_final = np.c_[x_train_final, ones]\n",
    "\n",
    "\n",
    "# Changing the variable name for consistency\n",
    "y_train_final = y_train\n",
    "\n",
    "\n",
    "# Normalizing x test values with pipe\n",
    "x_test_final = np.array(pipe.fit_transform(x_test_values))\n",
    "oness = np.ones( (x_test_final.shape[0]))\n",
    "x_test_final = np.c_[x_test_final, oness]\n",
    "\n",
    "\n",
    "# Changing the variable name for consistency\n",
    "y_test_final = y_test\n",
    "\n",
    "\n"
   ]
  },
  {
   "cell_type": "markdown",
   "metadata": {},
   "source": [
    "- - -\n",
    "## 3. IMPLEMENTATION OF GRADIENT DESCENT (45 pts)\n",
    "The gradient descent formulation remain the same as one in the lecture. Keep in mind that you will need to add a column $\\textbf{x}_0$ with all 1s as part of the training data. You should write code to implement the **MyLinearRegression** class and its predefined methods. \n",
    "\n",
    "* **Gradient Descent:** Notes that you may NOT call the library linear regression which defeats the purpose of this assignment. Make sure your code supports any number of features and is well-vectorized."
   ]
  },
  {
   "cell_type": "code",
   "execution_count": 154,
   "metadata": {},
   "outputs": [],
   "source": [
    "# NOTE: You may not use the library Linear Regression, but implement your own!\n",
    "# REMEMBER to place self.attribute = 0 with value from your implementation\n",
    "class MyLinearRegression:\n",
    "    def __init__ (self):\n",
    "        self.theta = 0; # parameter vector;\n",
    "        self.alpha = 0; # learning rate\n",
    "        self.cost  = []; # cost function\n",
    "    \n",
    "    def fitUsingGradientDescent(self, x_train, y_train):\n",
    "        iters = 1000\n",
    "        theta = np.random.randn(x_train.shape[1], 1)\n",
    "        alpha = 0.1\n",
    "        self.gradientDescent(x_train, y_train, theta, alpha, iters)\n",
    "        \n",
    "    def gradientDescent(self, x_train, y_train, theta, alpha, iters):\n",
    "        m = x_train.shape[0]\n",
    "        for iteration in range(iters):\n",
    "            gradients = 2/m * x_train.T.dot(x_train.dot(theta) - y_train)\n",
    "            theta = theta - alpha * gradients\n",
    "            c = 1/m * ((x_train.dot(theta) - y_train).T).dot(x_train.dot(theta) - y_train)\n",
    "            self.cost.append(c[0][0])\n",
    "        self.theta = theta\n",
    "        \n",
    "    def predict(self, x_test): \n",
    "        \n",
    "        return x_test.dot(self.theta)\n",
    "        \n",
    "        \n",
    "        #return y_predict\n",
    "    \n",
    "    def fitUsingNormalEquation(self, x_train, y_train): \n",
    "        self.theta = np.linalg.inv(x_train.T.dot(x_train)).dot(x_train.T).dot(y_train)\n",
    "        \n"
   ]
  },
  {
   "cell_type": "code",
   "execution_count": 155,
   "metadata": {},
   "outputs": [],
   "source": [
    "# Your code goes here to call the instance of class MyLinearRegression\n",
    "myGradientDescentModel = MyLinearRegression()\n",
    "myGradientDescentModel.fitUsingGradientDescent(x_train_final, y_train_final)\n"
   ]
  },
  {
   "cell_type": "markdown",
   "metadata": {},
   "source": [
    "* **Learning Rate:** You will try out different learning rates for the dataset and find a learning rate that converges quickly. If you pick a learning rate, your plot of Cost Function $J(\\theta)$ against number of iteration will quickly decay to a small value. This also indicates that your implementation is correct. If your learning rate is too large, the cost function $J(\\theta)$ can diverge and blow up. From the below plot, you must be able to report the best learning rate the you found to earn credit for this section."
   ]
  },
  {
   "cell_type": "code",
   "execution_count": 156,
   "metadata": {},
   "outputs": [
    {
     "data": {
      "image/png": "[encoded data removed]",
      "text/plain": [
       "<Figure size 432x288 with 1 Axes>"
      ]
     },
     "metadata": {
      "needs_background": "light"
     },
     "output_type": "display_data"
    },
    {
     "data": {
      "image/png": "[encoded data removed]",
      "text/plain": [
       "<Figure size 432x288 with 1 Axes>"
      ]
     },
     "metadata": {
      "needs_background": "light"
     },
     "output_type": "display_data"
    },
    {
     "data": {
      "image/png": "[encoded data removed]",
      "text/plain": [
       "<Figure size 432x288 with 1 Axes>"
      ]
     },
     "metadata": {
      "needs_background": "light"
     },
     "output_type": "display_data"
    },
    {
     "data": {
      "image/png": "[encoded data removed]",
      "text/plain": [
       "<Figure size 432x288 with 1 Axes>"
      ]
     },
     "metadata": {
      "needs_background": "light"
     },
     "output_type": "display_data"
    },
    {
     "name": "stdout",
     "output_type": "stream",
     "text": [
      "\n",
      "\n",
      "Best learning rate is 0.01\n"
     ]
    }
   ],
   "source": [
    "# Use the following code to plot out your learning rate\n",
    "# iters and cost must be supplied to plot out the cost function\n",
    "# You may plot multiple curves corresponding to different learning rates to justify the best one.\n",
    "\n",
    "\n",
    "# alpha = 0.1\n",
    "x = np.arange(0, 1000)\n",
    "y = myGradientDescentModel.cost\n",
    "\n",
    "alpha0_1 = plt\n",
    "alpha0_1.scatter(x, y, alpha = 0.5)\n",
    "alpha0_1.xlabel('Iterations')  \n",
    "alpha0_1.ylabel('Cost')  \n",
    "alpha0_1.title('Error vs. Training Iterations (ALPHA = 0.1)') \n",
    "alpha0_1.show() \n",
    "\n",
    "\n",
    "# alpha = 0.01  \n",
    "iters = 1000\n",
    "theta = np.random.randn(x_train_final.shape[1], 1)\n",
    "alpha = 0.01\n",
    "myGradientDescentModel1 = MyLinearRegression()\n",
    "myGradientDescentModel1.gradientDescent(x_train_final, y_train_final, theta, alpha, iters)\n",
    "y1 = myGradientDescentModel1.cost\n",
    "\n",
    "alpha0_01 = plt\n",
    "alpha0_01.scatter(x, y1, alpha = 0.5)\n",
    "alpha0_01.xlabel('Iterations')  \n",
    "alpha0_01.ylabel('Cost')  \n",
    "alpha0_01.title('Error vs. Training Iterations (ALPHA = 0.01)') \n",
    "alpha0_01.show() \n",
    "\n",
    "\n",
    "# alpha = 1.5\n",
    "iters = 1000\n",
    "theta = np.random.randn(x_train_final.shape[1], 1)\n",
    "alpha = 1.5\n",
    "myGradientDescentModel1 = MyLinearRegression()\n",
    "myGradientDescentModel1.gradientDescent(x_train_final, y_train_final, theta, alpha, iters)\n",
    "y1 = myGradientDescentModel1.cost\n",
    "\n",
    "alpha0_9 = plt\n",
    "alpha0_9.scatter(x, y1, alpha = 0.5)\n",
    "alpha0_9.xlabel('Iterations')  \n",
    "alpha0_9.ylabel('Cost')  \n",
    "alpha0_9.title('Error vs. Training Iterations (ALPHA = 1.5)') \n",
    "alpha0_9.show() \n",
    "\n",
    "\n",
    "# alpha = 0.005\n",
    "iters = 1000\n",
    "theta = np.random.randn(x_train_final.shape[1], 1)\n",
    "alpha = 0.005\n",
    "myGradientDescentModel1 = MyLinearRegression()\n",
    "myGradientDescentModel1.gradientDescent(x_train_final, y_train_final, theta, alpha, iters)\n",
    "y1 = myGradientDescentModel1.cost\n",
    "\n",
    "alpha0_9 = plt\n",
    "alpha0_9.scatter(x, y1, alpha = 0.5)\n",
    "alpha0_9.xlabel('Iterations')  \n",
    "alpha0_9.ylabel('Cost')  \n",
    "alpha0_9.title('Error vs. Training Iterations (ALPHA = 0.005)') \n",
    "alpha0_9.show() \n",
    "\n",
    "print()\n",
    "print()\n",
    "print(\"Best learning rate is 0.01\")\n",
    "\n"
   ]
  },
  {
   "cell_type": "markdown",
   "metadata": {},
   "source": [
    "- - -\n",
    "## 4. IMPLEMENTATION OF THE NORMAL EQUATION (10 pts)"
   ]
  },
  {
   "cell_type": "markdown",
   "metadata": {},
   "source": [
    "In my lecture, you learn that the closed form solution of linear regression using the normal equation formulation. Using the formula does not require any feature scaling, and should be straight forward to implement: \n",
    "\n",
    "$\n",
    "    \\mathbf{\\theta} = ({\\mathbf{X}^{T}\\mathbf{X}})^{-1}\\mathbf{X}^{T}\\mathbf{y}.\n",
    "$\n",
    "\n",
    "Note that you still need to add a column of 1's to the $\\mathbf{\n",
    "X}$ matrix to have an intercept term."
   ]
  },
  {
   "cell_type": "code",
   "execution_count": 157,
   "metadata": {},
   "outputs": [],
   "source": [
    "# Implement the normalEquation method of the MyLinearRegression Class before execute the code below:\n",
    "myNormalEquationModel = MyLinearRegression()\n",
    "myNormalEquationModel.fitUsingNormalEquation(x_train, y_train)\n"
   ]
  },
  {
   "cell_type": "markdown",
   "metadata": {},
   "source": [
    "- - -\n",
    "## 5. COMPARISON OF DIFFERENT IMPLEMENTATIONS (20 pts)"
   ]
  },
  {
   "cell_type": "markdown",
   "metadata": {},
   "source": [
    "You should be able to evaluate and compare your gradient descent as well as normal equation implementation of linear regression. In theory, they should be the same, or at least similar. For good measures, you may also use the built-in library **Scholastic Gradient Descent (SGD)** as a third model for comparison. For each model, you must compute the Root Mean Squared Error (RMSE) as performance measure. The good news is that you can call library functions to compute these as shown below instead of writing your own code:\n",
    "\n",
    "* Which one yields the best performance measure for your dataset?\n",
    "* What is your assessment of the error? Good? Okay? Terrible?"
   ]
  },
  {
   "cell_type": "code",
   "execution_count": 158,
   "metadata": {},
   "outputs": [
    {
     "name": "stdout",
     "output_type": "stream",
     "text": [
      "error SGD Model:  2434172.2838148866\n",
      "error NormalEquation:  2376885.564353244\n",
      "error Gradient Descent:  2376885.564353244\n"
     ]
    },
    {
     "name": "stderr",
     "output_type": "stream",
     "text": [
      "/anaconda3/lib/python3.7/site-packages/sklearn/linear_model/stochastic_gradient.py:166: FutureWarning: max_iter and tol parameters have been added in SGDRegressor in 0.19. If both are left unset, they default to max_iter=5 and tol=None. If tol is not None, max_iter defaults to max_iter=1000. From 0.21, default max_iter will be 1000, and default tol will be 1e-3.\n",
      "  FutureWarning)\n",
      "/anaconda3/lib/python3.7/site-packages/sklearn/utils/validation.py:761: DataConversionWarning: A column-vector y was passed when a 1d array was expected. Please change the shape of y to (n_samples, ), for example using ravel().\n",
      "  y = column_or_1d(y, warn=True)\n"
     ]
    }
   ],
   "source": [
    "from sklearn.metrics import mean_squared_error\n",
    "from sklearn.linear_model import SGDRegressor\n",
    "\n",
    "# SGD Regressor Model\n",
    "mySGDModel = SGDRegressor()\n",
    "mySGDModel.fit(x_train_final, y_train_final)\n",
    "y_predict = mySGDModel.predict(x_test_final)\n",
    "mse = mean_squared_error(y_test_final, y_predict)\n",
    "mySGDModel_rmse = np.sqrt(mse)\n",
    "print(\"error SGD Model: \", mySGDModel_rmse)\n",
    "\n",
    "# Linear Regressor Model using Gradient Equation\n",
    "myLinearRegressor1 = MyLinearRegression()\n",
    "myLinearRegressor1.fitUsingGradientDescent(x_train_final, y_train_final)\n",
    "y_predict_myNormalEquation = myLinearRegressor1.predict(x_test_final)\n",
    "mse_myNormalEquation = mean_squared_error(y_test_final, y_predict_myNormalEquation)\n",
    "my_rmse = np.sqrt(mse_myNormalEquation)\n",
    "print(\"error NormalEquation: \", my_rmse)\n",
    "\n",
    "# Linear Regressor Model using Normal Equation \n",
    "myLinearRegressor2 = MyLinearRegression()\n",
    "myLinearRegressor2.fitUsingNormalEquation(x_train_final, y_train_final)\n",
    "y_predict_gradient_descent = myLinearRegressor2.predict(x_test_final)\n",
    "mse_gradient_descent = mean_squared_error(y_test_final, y_predict_gradient_descent)\n",
    "my_rmse2 = np.sqrt(mse_gradient_descent)\n",
    "print(\"error Gradient Descent: \", my_rmse2)\n"
   ]
  },
  {
   "cell_type": "markdown",
   "metadata": {},
   "source": [
    "My gradient descent and normal equation implementations gave me the exact same RMSE error. This was expected because in theory, they should be the same if the local minimum of of the gradient descent equals the global minimum. \n",
    "\n",
    "\n",
    "The normal equation and gradient descent implementations actually gave me slightly better errors than the SGD Model! I was actually able to predict the amount of subscribers on a Youtube channel with an error of about 2,376,885 subscribers, which is pretty bad considering the mean amount of subscribers is 2,621,527. However, this error is slightly better than the error produced by the SGD Model (2,391,532). \n",
    "\n",
    "\n",
    " \n",
    "\n"
   ]
  },
  {
   "cell_type": "markdown",
   "metadata": {},
   "source": [
    "- - -\n",
    "## 6. PRESENTATION OF YOUR SOLUTION (10 pts)"
   ]
  },
  {
   "cell_type": "markdown",
   "metadata": {},
   "source": [
    "Now that you need to write a short memo of one paragraph to be read by a non-technical audience (ie. your manager/boss). Focus on answering the following: \n",
    "\n",
    "* How can you pitch your solution to this project? \n",
    "* What did you learn so far about the problem?\n",
    "* Is there any insight moving forward to improve the solution."
   ]
  },
  {
   "cell_type": "markdown",
   "metadata": {},
   "source": [
    "After looking at all the possible features that might influence the amount of subscribers on a Youtube channel, I came to the conclusion that the only relevant one in the dataset was the total amount of views on the Youtube channel. \n",
    "\n",
    "The scatter plot implied that there was  is a positive direct correlation between the total amount of views on a Youtube channel and the subscribers on that channel. After implementing the solution, I learned that my model was not complicated enough and it had errors that were comparable to the mean of subscribers, which is generally not good. \n",
    "\n",
    "In order to improve this error in the future, I might need more features. Sadly, I did not have too many relevant features available to me in the Kaggle dataset. In addition to that, I could implement a more complicated non-linear model like a polynomial model. "
   ]
  },
  {
   "cell_type": "markdown",
   "metadata": {},
   "source": [
    "- - - \n",
    "### NEED HELP?"
   ]
  },
  {
   "cell_type": "markdown",
   "metadata": {},
   "source": [
    "In case you get stuck in any step in the process, you may find some useful information from:\n",
    "\n",
    " * Consult my [slides](https://docs.google.com/presentation/d/10D1he89peAWaFgjtZlHpUzvOOAie_vIFT95htKCKgc0/edit?usp=sharing) and/or the textbook\n",
    " * Talk to the TA, they are available and there to help you during [office hour](http://bit.ly/cs4501oh)\n",
    " * Come talk to me or email me <nn4pj@virginia.edu> with subject starting \"CS4501 Assignment 1:...\".\n",
    "\n",
    "Best of luck and have fun!"
   ]
  },
  {
   "cell_type": "code",
   "execution_count": null,
   "metadata": {},
   "outputs": [],
   "source": []
  },
  {
   "cell_type": "code",
   "execution_count": null,
   "metadata": {},
   "outputs": [],
   "source": []
  }
 ],
 "metadata": {
  "kernelspec": {
   "display_name": "Python 3",
   "language": "python",
   "name": "python3"
  },
  "language_info": {
   "codemirror_mode": {
    "name": "ipython",
    "version": 3
   },
   "file_extension": ".py",
   "mimetype": "text/x-python",
   "name": "python",
   "nbconvert_exporter": "python",
   "pygments_lexer": "ipython3",
   "version": "3.7.1"
  }
 },
 "nbformat": 4,
 "nbformat_minor": 2
}
